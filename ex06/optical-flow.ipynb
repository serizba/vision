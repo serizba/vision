{
 "cells": [
  {
   "cell_type": "code",
   "execution_count": 1,
   "metadata": {},
   "outputs": [],
   "source": [
    "import numpy as np\n",
    "import skimage.io\n",
    "import skimage\n",
    "import matplotlib.pyplot as plt\n",
    "import cv2\n",
    "import numba\n",
    "from flow2color import *\n",
    "from tqdm import tqdm"
   ]
  },
  {
   "cell_type": "code",
   "execution_count": 2,
   "metadata": {},
   "outputs": [],
   "source": [
    "# I(x,y)\n",
    "I1, I2 = cv2.imread('yos08.pgm', 0), cv2.imread('yos09.pgm', 0)\n",
    "\n",
    "# Apply Gaussian Blur\n",
    "#size = 7\n",
    "#I1, I2 = cv2.GaussianBlur(I1,(size, size),0), cv2.GaussianBlur(I2,(size, size),0)\n",
    "\n",
    "# Stack the images -- I(x,y,t)\n",
    "I = np.stack([I1, I2], axis=-1) / 255.0\n",
    "\n",
    "gt = np.genfromtxt('yos_co.txt')\n",
    "\n",
    "# Derivatives\n",
    "Iy, Ix, It = np.gradient(I)"
   ]
  },
  {
   "cell_type": "code",
   "execution_count": 3,
   "metadata": {},
   "outputs": [],
   "source": [
    "def flow2image(flow):\n",
    "    res = np.zeros((flow.shape[0], flow.shape[1], 3), np.uint8)\n",
    "    for i in range(flow.shape[0]):\n",
    "        for j in range(flow.shape[1]):\n",
    "            res[i,j] = np.uint8(flow2color(flow[i,j,0], flow[i,j,1]))\n",
    "    return res"
   ]
  },
  {
   "cell_type": "code",
   "execution_count": 4,
   "metadata": {},
   "outputs": [],
   "source": [
    "def epe(gt, y):\n",
    "    return np.sqrt((y[:, 0]-gt[:,0])**2 + (y[:, 1]-gt[:,1])**2).mean()\n",
    "def aae(gt, y):\n",
    "    return np.rad2deg(np.arccos((y[:, 0] * gt[:, 0] + y[:, 1] * gt[:, 1] + 1) / np.sqrt((y[:, 0]**2 + y[:, 1]**2 + 1) * (gt[:, 0]**2 + gt[:, 1]**2 + 1))).mean())"
   ]
  },
  {
   "cell_type": "code",
   "execution_count": 5,
   "metadata": {},
   "outputs": [],
   "source": [
    "@numba.jit(nopython=True)\n",
    "def sor(Ix, Iy, It, psi1, psi_im1, psi_ip1, psi_jm1, psi_jp1, flow, alpha):\n",
    "    \n",
    "    w = 1.99\n",
    "    ialpha = 1.0 / alpha\n",
    "    \n",
    "    # Iterate over u \n",
    "    for i in range(flow.shape[0]):\n",
    "        for j in range(flow.shape[1]):\n",
    "            b = - psi1[i,j] * ialpha * It[i,j,0] * Ix[i,j,0]\n",
    "            # with a minus in the equation\n",
    "            D = psi1[i,j] * ialpha * Ix[i,j,0] * Ix[i,j,0] + psi_im1[i,j] + psi_ip1[i,j] + psi_jm1[i,j] + psi_jp1[i,j]\n",
    "            Lx = - psi_im1[i,j] * (flow[i-1,j,0] if i>0 else 0.0) - psi_jm1[i,j] * (flow[i,j-1,0] if j>0 else 0.0)\n",
    "            Ux = psi1[i,j] * ialpha * Iy[i,j,0] * Ix[i,j,0] * flow[i,j,1] - psi_ip1[i,j] * (flow[i+1,j,0] if i<flow.shape[0]-1 else 0.0) - psi_jp1[i,j] * (flow[i,j+1,0] if j<flow.shape[1]-1 else 0.0)\n",
    "            \n",
    "            # with a plus in the equation\n",
    "            #D = psi1[i,j] * ialpha * Ix[i,j,0] * Ix[i,j,0] - psi_im1[i,j] - psi_ip1[i,j] - psi_jm1[i,j] - psi_jp1[i,j]\n",
    "            #Lx = psi_im1[i,j] * (flow[i-1,j,0] if i>0 else 0.0) + psi_jm1[i,j] * (flow[i,j-1,0] if j>0 else 0.0)\n",
    "            #Ux = psi1[i,j] * ialpha * Iy[i,j,0] * Ix[i,j,0] * flow[i,j,1] + psi_ip1[i,j] * (flow[i+1,j,0] if i<flow.shape[0]-1 else 0.0) + psi_jp1[i,j] * (flow[i,j+1,0] if j<flow.shape[1]-1 else 0.0)\n",
    "            \n",
    "            flow[i,j,0] = (1-w) * flow[i,j,0] + w * ((b - Lx - Ux) / D)\n",
    "            \n",
    "    # Iterate over v\n",
    "    for i in range(flow.shape[0]):\n",
    "        for j in range(flow.shape[1]):\n",
    "            b = - psi1[i,j] * ialpha * It[i,j,0] * Iy[i,j,0]\n",
    "            # with a minus in the equation\n",
    "            D = psi1[i,j] * ialpha * Iy[i,j,0] * Iy[i,j,0] + psi_im1[i,j] + psi_ip1[i,j] + psi_jm1[i,j] + psi_jp1[i,j]\n",
    "            Lx = - psi_im1[i,j] * (flow[i-1,j,1] if i>0 else 0.0) - psi_jm1[i,j] * (flow[i,j-1,1] if j>0 else 0.0)\n",
    "            Ux = psi1[i,j] * ialpha * Ix[i,j,0] * Iy[i,j,0] * flow[i,j,0] - psi_ip1[i,j] * (flow[i+1,j,1] if i<flow.shape[0]-1 else 0.0) - psi_jp1[i,j] * (flow[i,j+1,1] if j<flow.shape[1]-1 else 0.0)\n",
    "            \n",
    "            # with a plus in the equation\n",
    "            #D = psi1[i,j] * ialpha * Iy[i,j,0] * Iy[i,j,0] - psi_im1[i,j] - psi_ip1[i,j] - psi_jm1[i,j] - psi_jp1[i,j]\n",
    "            #Lx = psi_im1[i,j] * (flow[i-1,j,1] if i>0 else 0.0) + psi_jm1[i,j] * (flow[i,j-1,1] if j>0 else 0.0)\n",
    "            #Ux = psi1[i,j] * ialpha * Ix[i,j,0] * Iy[i,j,0] * flow[i,j,0] + psi_ip1[i,j] * (flow[i+1,j,1] if i<flow.shape[0]-1 else 0.0) + psi_jp1[i,j] * (flow[i,j+1,1] if j<flow.shape[1]-1 else 0.0)\n",
    "            \n",
    "            flow[i,j,1] = (1-w) * flow[i,j,1] + w * ((b - Lx -Ux) / D)\n",
    "            \n",
    "    \n",
    "    return flow"
   ]
  },
  {
   "cell_type": "code",
   "execution_count": 8,
   "metadata": {},
   "outputs": [],
   "source": [
    "# Implements Horn-Schunck with both terms non-quadratic (for discontinuities and occlusions)\n",
    "\n",
    "def lagged_diffusivity(gt, Ix, Iy, It, alpha, epsilon, err, num_it_sor):\n",
    "    flow = np.ones((Ix.shape[0], Ix.shape[1], 2))\n",
    "    \n",
    "    for i in range(1000): \n",
    "    \n",
    "        psi1 = 1 / np.sqrt((Ix[:,:,0]*flow[:,:,0] + Iy[:,:,0]*flow[:,:,1] + It[:,:,0])**2 + epsilon**2)\n",
    "\n",
    "        flow_ip1 = np.vstack([flow[1:,:,:],flow[-1:,:,:]])\n",
    "        flow_im1 = np.vstack([flow[:1,:,:],flow[:-1,:,:]])\n",
    "        flow_jp1 = np.hstack([flow[:,1:,:],flow[:,-1:,:]])\n",
    "        flow_jm1 = np.hstack([flow[:,:1,:],flow[:,:-1,:]])\n",
    "\n",
    "        # norm of the gradient squared\n",
    "        ngs = ((flow_ip1 - flow_im1) / 2)**2 + ((flow_jp1 - flow_jm1) / 2)**2\n",
    "\n",
    "        ngs_ip1 = np.vstack([ngs[1:,:,:],ngs[-1:,:,:]])\n",
    "        ngs_im1 = np.vstack([ngs[:1,:,:],ngs[:-1,:,:]])\n",
    "        ngs_jp1 = np.hstack([ngs[:,1:,:],ngs[:,-1:,:]])\n",
    "        ngs_jm1 = np.hstack([ngs[:,:1,:],ngs[:,:-1,:]])\n",
    "\n",
    "        psi_im1 = 0.5 * ((1 / np.sqrt(ngs[:,:,0]+ngs[:,:,1]+epsilon**2)) + (1 / np.sqrt(ngs_im1[:,:,0]+ngs_im1[:,:,1]+epsilon**2)))\n",
    "        psi_ip1 = 0.5 * ((1 / np.sqrt(ngs[:,:,0]+ngs[:,:,1]+epsilon**2)) + (1 / np.sqrt(ngs_ip1[:,:,0]+ngs_ip1[:,:,1]+epsilon**2)))\n",
    "        psi_jm1 = 0.5 * ((1 / np.sqrt(ngs[:,:,0]+ngs[:,:,1]+epsilon**2)) + (1 / np.sqrt(ngs_jm1[:,:,0]+ngs_jm1[:,:,1]+epsilon**2)))\n",
    "        psi_jp1 = 0.5 * ((1 / np.sqrt(ngs[:,:,0]+ngs[:,:,1]+epsilon**2)) + (1 / np.sqrt(ngs_jp1[:,:,0]+ngs_jp1[:,:,1]+epsilon**2)))\n",
    "\n",
    "        \n",
    "        for j in range(num_it_sor):\n",
    "            flow = sor(Ix, Iy, It, psi1, psi_im1, psi_ip1, psi_jm1, psi_jp1, flow, alpha)\n",
    "            \n",
    "        if i % 100 == 0:\n",
    "            print(aae(gt, flow.reshape((-1, 2))))\n",
    "        \n",
    "        if abs(err -  aae(gt, flow.reshape((-1, 2)))) < 0.0001:\n",
    "            print('BYE, BYE', aae(gt, flow.reshape((-1, 2))))\n",
    "            break\n",
    "    \n",
    "    return flow"
   ]
  },
  {
   "cell_type": "code",
   "execution_count": 9,
   "metadata": {},
   "outputs": [
    {
     "name": "stdout",
     "output_type": "stream",
     "text": [
      "53.962469713057445\n",
      "55.09341505714063\n",
      "55.09342382879568\n",
      "55.093423832671206\n",
      "55.09342383267099\n",
      "55.09342383267099\n",
      "55.09342383267099\n",
      "55.09342383267099\n",
      "55.09342383267099\n",
      "55.09342383267099\n"
     ]
    },
    {
     "data": {
      "text/plain": [
       "True"
      ]
     },
     "execution_count": 9,
     "metadata": {},
     "output_type": "execute_result"
    }
   ],
   "source": [
    "flow = lagged_diffusivity(gt, Ix, Iy, It, 15.0, 0.001, 10.0, 10)\n",
    "cv2.imwrite('result.png', cv2.cvtColor(flow2image(flow),cv2.COLOR_RGB2BGR))"
   ]
  },
  {
   "cell_type": "code",
   "execution_count": null,
   "metadata": {},
   "outputs": [],
   "source": []
  }
 ],
 "metadata": {
  "kernelspec": {
   "display_name": "Python 3",
   "language": "python",
   "name": "python3"
  },
  "language_info": {
   "codemirror_mode": {
    "name": "ipython",
    "version": 3
   },
   "file_extension": ".py",
   "mimetype": "text/x-python",
   "name": "python",
   "nbconvert_exporter": "python",
   "pygments_lexer": "ipython3",
   "version": "3.7.5"
  }
 },
 "nbformat": 4,
 "nbformat_minor": 2
}
