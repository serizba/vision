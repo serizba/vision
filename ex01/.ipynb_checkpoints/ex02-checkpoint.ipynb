{
 "cells": [
  {
   "cell_type": "code",
   "execution_count": null,
   "metadata": {},
   "outputs": [],
   "source": [
    "# Primal-Dual Segmentation\n",
    "\n",
    "T = 40\n",
    "sigma = .25\n",
    "tau   = 1.0\n",
    "alpha = T\n",
    "theta = 1.0\n",
    "\n",
    "im = skimage.io.imread('BoatsNoise10.pgm')[:,:] #/ 255.\n",
    "u = im\n",
    "p = np.random.randn(im.shape[0], im.shape[1], 2) * 0.0\n",
    "\n",
    "u_tilde = np.zeros_like(im)\n",
    "\n",
    "results = [im]\n",
    "\n",
    "constant = (im-0)**2 - (im-1)**2\n",
    "\n",
    "for i in range(T):\n",
    "    dy, dx = np.gradient(u_tilde)\n",
    "    grad = np.stack([dy, dx], axis=-1)\n",
    "\n",
    "    gradient_step = p + sigma * grad\n",
    "    denominator = np.maximum(1.0, np.linalg.norm(gradient_step, axis=2) / alpha)\n",
    "\n",
    "    nextp = gradient_step / np.stack([denominator, denominator], axis=-1)\n",
    "\n",
    "    \n",
    "    divpy, _ = np.gradient(nextp[:,:,0])\n",
    "    _, divpx = np.gradient(nextp[:,:,1])\n",
    "    \n",
    "    nextu = u - tau*(constant - (divpy+divpx))\n",
    "    \n",
    "    nextu_tilde = nextu + theta*(nextu - u)\n",
    "   \n",
    "    u = nextu\n",
    "    p = nextp\n",
    "    u_tilde = nextu_tilde\n",
    "    \n",
    "    results += [u]\n"
   ]
  }
 ],
 "metadata": {
  "kernelspec": {
   "display_name": "Python 3",
   "language": "python",
   "name": "python3"
  },
  "language_info": {
   "codemirror_mode": {
    "name": "ipython",
    "version": 3
   },
   "file_extension": ".py",
   "mimetype": "text/x-python",
   "name": "python",
   "nbconvert_exporter": "python",
   "pygments_lexer": "ipython3",
   "version": "3.6.8"
  }
 },
 "nbformat": 4,
 "nbformat_minor": 2
}
