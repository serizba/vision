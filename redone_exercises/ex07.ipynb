{
 "cells": [
  {
   "cell_type": "markdown",
   "metadata": {},
   "source": [
    "# Disparity Estimation"
   ]
  },
  {
   "cell_type": "code",
   "execution_count": 3,
   "metadata": {},
   "outputs": [],
   "source": [
    "import numpy as np\n",
    "import numba as nb\n",
    "import cv2\n",
    "import matplotlib.pyplot as plt\n",
    "from utils import plots\n",
    "from utils import imgs\n",
    "from tqdm import tqdm"
   ]
  },
  {
   "cell_type": "code",
   "execution_count": 4,
   "metadata": {},
   "outputs": [],
   "source": [
    "I1, I2 = cv2.imread('images/tsukubaL.ppm', 0) / 255.0, cv2.imread('images/tsukubaR.ppm', 0) / 255.0"
   ]
  },
  {
   "cell_type": "code",
   "execution_count": 5,
   "metadata": {},
   "outputs": [],
   "source": [
    "@nb.njit\n",
    "def cost_matrix(I1, I2, w=5, n=15):\n",
    "    cost = np.ones((*I1.shape, n*2-1)) * (-np.inf)\n",
    "    \n",
    "    p1 = np.zeros((I1.shape[0] + w, I1.shape[1] + w))\n",
    "    p1[w//2:-w//2, w//2:-w//2] = I1.copy()\n",
    "    \n",
    "    \n",
    "    p2 = np.zeros((I2.shape[0] + w, I2.shape[1] + w))\n",
    "    p2[w//2:-w//2, w//2:-w//2] = I2.copy()\n",
    "    \n",
    "    for i in range(I1.shape[0]):\n",
    "        for j in range(I2.shape[1]):\n",
    "            for k in range(max(0, j-n+1)-j, min(I1.shape[1], j+n)-j):\n",
    "                templ = p1[i:i+w, j:j+w]\n",
    "                targt = p2[i:i+w, j+k:j+k+w]\n",
    "                \n",
    "                num = ((templ - templ.mean()) * (targt - targt.mean())).mean()\n",
    "                den = np.sqrt(templ.var() * targt.var())\n",
    "            \n",
    "                cost[i, j, k+n-1] = num / (den + 0.001)\n",
    "    return cost"
   ]
  },
  {
   "cell_type": "code",
   "execution_count": 6,
   "metadata": {},
   "outputs": [],
   "source": [
    "def disparity(I1, I2, w=5, n=15, pwcost=None):\n",
    "    \n",
    "    \n",
    "    pwcost = pwcost if pwcost is not None else np.eye(2*n-1)\n",
    "    cost = cost_matrix(I1, I2, w, n)\n",
    "    \n",
    "    # Number of labels\n",
    "    n = cost.shape[2]\n",
    "    \n",
    "    forw = np.zeros_like(cost)\n",
    "    back = np.zeros_like(cost)\n",
    "    \n",
    "    forw[:,  0, :] = 0.0\n",
    "    back[:, -1, :] = 0.0\n",
    "    \n",
    "    for i in range(1, I1.shape[1]):\n",
    "        \n",
    "        # Forward pass\n",
    "        forw[:,    i] = np.amax(forw[:, None, i-1] + cost[:, None, i-1] + pwcost, axis=2)\n",
    "        \n",
    "        # Backward pass\n",
    "        back[:, -i-1] = np.amax(back[:, None,  -i] + cost[:, None,  -i] + pwcost, axis=2)\n",
    "    \n",
    "    return np.argmax(forw + back + cost, axis=2) - n\n",
    "        \n"
   ]
  },
  {
   "cell_type": "code",
   "execution_count": 7,
   "metadata": {},
   "outputs": [
    {
     "data": {
      "text/plain": [
       "<matplotlib.colorbar.Colorbar at 0x7f5bddd7bd90>"
      ]
     },
     "execution_count": 7,
     "metadata": {},
     "output_type": "execute_result"
    },
    {
     "data": {
      "image/png": "[encoded data removed]",
      "text/plain": [
       "<Figure size 432x288 with 2 Axes>"
      ]
     },
     "metadata": {
      "needs_background": "light"
     },
     "output_type": "display_data"
    }
   ],
   "source": [
    "res = disparity(I1, I2)\n",
    "plt.imshow(res, cmap='magma')\n",
    "plt.colorbar()"
   ]
  },
  {
   "cell_type": "code",
   "execution_count": 18,
   "metadata": {},
   "outputs": [],
   "source": [
    "def SGMdisparity(I1, I2, w=5, n=15, pwcost=None):\n",
    "    \n",
    "    \n",
    "    pwcost = pwcost if pwcost is not None else np.eye(2*n-1)\n",
    "    cost = cost_matrix(I1, I2, w, n)\n",
    "    \n",
    "    # Number of labels\n",
    "    n = cost.shape[2]\n",
    "    \n",
    "    forw = np.zeros((*I1.shape, 4, 29))\n",
    "    back = np.zeros((*I1.shape, 4, 29))\n",
    "    \n",
    "    for i in range(0, I1.shape[0]):\n",
    "        for j in range(0, I1.shape[1]):\n",
    "            \n",
    "            ### FORWARD\n",
    "            \n",
    "            # Top Left\n",
    "            if i>0 and j>0:\n",
    "                forw[i, j, 0] = np.amax(forw[i-1, j-1, 0] + cost[i-1, j-1] + pwcost, axis=1)\n",
    "                \n",
    "            # Top\n",
    "            if i>0:\n",
    "                forw[i, j, 1] = np.amax(forw[i-1, j, 1] + cost[i-1, j] + pwcost, axis=1)     \n",
    "                \n",
    "            # Top Right\n",
    "            if i>0 and j<I1.shape[1]-1:\n",
    "                forw[i, j, 2] = np.amax(forw[i-1, j+1, 2] + cost[i-1, j+1] + pwcost, axis=1)  \n",
    "                \n",
    "            # Left\n",
    "            if j>0:\n",
    "                forw[i, j, 3] = np.amax(forw[i, j-1, 3] + cost[i, j-1] + pwcost, axis=1)  \n",
    "                \n",
    "            \n",
    "            ### BACKWARD\n",
    "            \n",
    "            # Bottom Right\n",
    "            if i<I1.shape[0]-1 and j<I1.shape[1]-1:\n",
    "                back[i, j, 0] = np.amax(back[i+1, j+1, 0] + cost[i+1, j+1] + pwcost, axis=1)\n",
    "                \n",
    "            # Bottom\n",
    "            if i<I1.shape[0]-1:\n",
    "                back[i, j, 1] = np.amax(back[i+1, j, 1] + cost[i+1, j] + pwcost, axis=1)\n",
    "                \n",
    "            # Bottom Left\n",
    "            if i<I1.shape[0]-1 and j>0:\n",
    "                back[i, j, 2] = np.amax(back[i+1, j-1, 2] + cost[i+1, j-1] + pwcost, axis=1)\n",
    "                \n",
    "            # Right\n",
    "            if j<I1.shape[1]-1:\n",
    "                back[i, j, 3] = np.amax(back[i, j+1, 3] + cost[i, j+1] + pwcost, axis=1)\n",
    "                \n",
    "                \n",
    "    \n",
    "    return np.argmax(forw.sum(axis=2) + back.sum(axis=2) + cost, axis=2) - n\n"
   ]
  },
  {
   "cell_type": "code",
   "execution_count": 31,
   "metadata": {},
   "outputs": [
    {
     "data": {
      "text/plain": [
       "<matplotlib.colorbar.Colorbar at 0x7f5bdec97d90>"
      ]
     },
     "execution_count": 31,
     "metadata": {},
     "output_type": "execute_result"
    },
    {
     "data": {
      "image/png": "[encoded data removed]",
      "text/plain": [
       "<Figure size 432x288 with 2 Axes>"
      ]
     },
     "metadata": {
      "needs_background": "light"
     },
     "output_type": "display_data"
    }
   ],
   "source": [
    "\n",
    "pw = np.eye(29) * 2.0\n",
    "pw[np.arange(1, 29), np.arange(0, 28)] = 1.5\n",
    "pw[np.arange(0, 28), np.arange(1, 29)] = 1.5\n",
    "        \n",
    "res = SGMdisparity(I1, I2, w=5, pwcost=pw)\n",
    "plt.imshow(res, cmap='jet')\n",
    "plt.colorbar()"
   ]
  },
  {
   "cell_type": "code",
   "execution_count": 30,
   "metadata": {},
   "outputs": [
    {
     "data": {
      "text/plain": [
       "<matplotlib.colorbar.Colorbar at 0x7f32381720d0>"
      ]
     },
     "execution_count": 30,
     "metadata": {},
     "output_type": "execute_result"
    },
    {
     "data": {
      "image/png": "[encoded data removed]",
      "text/plain": [
       "<Figure size 432x288 with 2 Axes>"
      ]
     },
     "metadata": {
      "needs_background": "light"
     },
     "output_type": "display_data"
    }
   ],
   "source": [
    "n = 15\n",
    "\n",
    "pw = np.zeros((2*n-1, 2*n-1))\n",
    "for i in range(2*n-1):\n",
    "    for j in range(2*n-1):\n",
    "        pw[i, j] = 1 - np.abs(i-j) / np.sqrt(2)\n",
    "\n",
    "        \n",
    "        \n",
    "res = disparity(I1, I2, n=n, pwcost=pw)\n",
    "plt.imshow(res, cmap='magma')\n",
    "plt.colorbar()"
   ]
  },
  {
   "cell_type": "code",
   "execution_count": null,
   "metadata": {},
   "outputs": [],
   "source": []
  }
 ],
 "metadata": {
  "kernelspec": {
   "display_name": "Python 3",
   "language": "python",
   "name": "python3"
  },
  "language_info": {
   "codemirror_mode": {
    "name": "ipython",
    "version": 3
   },
   "file_extension": ".py",
   "mimetype": "text/x-python",
   "name": "python",
   "nbconvert_exporter": "python",
   "pygments_lexer": "ipython3",
   "version": "3.7.5"
  }
 },
 "nbformat": 4,
 "nbformat_minor": 2
}
